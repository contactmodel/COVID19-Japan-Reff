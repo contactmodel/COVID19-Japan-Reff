{
 "cells": [
  {
   "cell_type": "code",
   "execution_count": 1,
   "metadata": {},
   "outputs": [
    {
     "name": "stderr",
     "output_type": "stream",
     "text": [
      "This is surveillance 1.18.0. For overview type 'help(surveillance)'.\n",
      "\n"
     ]
    },
    {
     "data": {
      "text/html": [
       "'R version 4.0.0 Patched (2020-05-24 r78561)'"
      ],
      "text/latex": [
       "'R version 4.0.0 Patched (2020-05-24 r78561)'"
      ],
      "text/markdown": [
       "'R version 4.0.0 Patched (2020-05-24 r78561)'"
      ],
      "text/plain": [
       "[1] \"R version 4.0.0 Patched (2020-05-24 r78561)\""
      ]
     },
     "metadata": {},
     "output_type": "display_data"
    }
   ],
   "source": [
    "libraries = c(\"dplyr\",\"magrittr\",\"tidyr\",\"ggplot2\",\"readxl\",\"RColorBrewer\",\"surveillance\")\n",
    "for(x in libraries) { library(x,character.only=TRUE,warn.conflicts=FALSE,quietly=TRUE) }\n",
    "\n",
    "'%&%' = function(x,y)paste0(x,y)\n",
    "\n",
    "theme_set(theme_bw())\n",
    "version$version.string"
   ]
  },
  {
   "cell_type": "markdown",
   "metadata": {},
   "source": [
    "## Revision note\n",
    "\n",
    "$\\circ$ typo in the function of generation interval (shape parameter) was corrected. (15 May 2020)\n",
    "\n",
    "$\\circ$ assuming the proportion of asymptomatic cases among all cases is constant, the asymptomatic cases were included in the estimation of $R_t$ including all cases with unknown illness onset date. (16 May 2020)"
    "$\circ$ A function for the convolution between the incubation period distribution and time distribution from the illness onset to reporting was corrected. (22 Nov 2021)"
   ]
  },
  {
   "cell_type": "markdown",
   "metadata": {},
   "source": [
    "## Data\n",
    "\n",
    "For the analysis, all confirmed COVID-19 cases who diagnosed in Japan were categorized into two types of case, imported case and domestic transmission case. The imported cases were defined as (i) those who have international travel history, (ii) who embarked on the “Diamond Princess” cruise ship as a passenger or member of disaster assistance team (i.e., DMAT or PMAT) within two weeks before the illness onset. \n",
    "\n",
    "For the estimation of $R_t$, the symptomatic confirmed cases in Japan with either or both the date of illness onset or the date of laboratory confirmation were used. Since the cases from the chartered flights have not involved in the domestic transmission dynamics in Japan, those cases were excluded in the analysis."
   ]
  },
  {
   "cell_type": "code",
   "execution_count": 2,
   "metadata": {},
   "outputs": [],
   "source": [
    "## The code was written by Sung-mok Jung\n",
    "\n",
    "## load the data\n",
    "datestar = as.Date(\"2020-05-10\")\n",
    "read.csv(\"../data/JapaneseDataCOVID19 (\"%&%format(datestar,\"%y%m%d\")%&%\").csv\", encoding=\"UTF-8\") -> master_df \n",
    "colnames(master_df) <- c(\"type\",\"onset\", \"labconf\", \"reported\", \"asym\")\n",
    "master_df %<>% mutate(labconf = as.Date(labconf), onset = as.Date(onset), reported = as.Date(reported))\n",
    "\n",
    "\n",
    "## data for cases with the illness onset\n",
    "master_df %>% filter(!is.na(onset)) -> onset_Japan\n",
    "onset_Japan %>% group_by(onset) %>% count(type) %>% spread(type, n) %>% as.data.frame() -> master_dff\n",
    "master_dff[is.na(master_dff)] <- 0 \n",
    "master_dff$onset <- as.Date(master_dff$onset)\n",
    "    \n",
    "as.numeric(datestar-1-min(master_dff$onset)) -> time.diff\n",
    "ttime <- as.data.frame(c(0:time.diff))\n",
    "colnames(ttime) <- c('t')\n",
    "ttime %<>% mutate(onset = as.Date(min(onset_Japan$onset))+t)\n",
    "    \n",
    "merge(ttime, master_dff, by='onset', all.x=TRUE) -> master_df_final\n",
    "master_df_final[is.na(master_df_final)] <- 0\n",
    "    \n",
    "master_df_final %<>% mutate(total = domestic+imported) %>% dplyr::select(onset, domestic, imported, total) %>%\n",
    "rename(domestic_org = domestic, imported_org = imported)\n",
    "master_df_final -> entire_Japan\n",
    "\n",
    "\n",
    "## data for cases with the unknown illness onset (excluding the asymptomatic cases)\n",
    "master_df %>% filter(is.na(onset)) %>% filter(!is.na(labconf)) -> unknown_df\n",
    "unknown_df %>% group_by(labconf) %>% count(type) %>% spread(type, n) %>% as.data.frame() -> unknown_dff\n",
    "unknown_dff[is.na(unknown_dff)] <- 0 \n",
    "unknown_dff$labconf <- as.Date(unknown_dff$labconf)\n",
    "    \n",
    "as.numeric(datestar-1-min(unknown_dff$labconf)) -> time.diff\n",
    "ttime <- as.data.frame(c(0:time.diff))\n",
    "colnames(ttime) <- c('t')\n",
    "ttime %<>% mutate(labconf = as.Date(min(unknown_df$labconf))+t)\n",
    "merge(ttime, unknown_dff, by='labconf', all.x=TRUE) -> unknown_df_final\n",
    "unknown_df_final[is.na(unknown_df_final)] <- 0\n",
    "    \n",
    "unknown_df_final %<>% mutate(total=domestic+imported) %>% dplyr::select(labconf, domestic, imported, total)\n",
    "\n",
    "temp_start <- matrix(NA, ncol=1, nrow=as.numeric(min(unknown_df_final$labconf)-as.Date(\"2020-01-03\")))\n",
    "temp_start %<>% as.data.frame() %>% mutate(labconf = as.Date(as.Date(\"2020-01-03\"):(min(unknown_df_final$labconf)-1), origin=\"1970-01-01\"),\n",
    "                                           domestic = 0, imported = 0, total= 0) %>% dplyr::select(-V1)\n",
    "rbind(temp_start, unknown_df_final) -> unknown_Japan"
   ]
  },
  {
   "cell_type": "markdown",
   "metadata": {},
   "source": [
    "## Distributions\n",
    "\n",
    "### 1. Generation time\n",
    "In the present analysis, serial interval was assumed to be identical with generation time and the value of doubly interval censored serial interval was also adopted from the previous study (Nishiura et, al., 2020, IJID). The Weibull distribution was fitted to 28 known infector-infectee pairs (mean = 4.8  days, standard deviation = 2.3 days).\n",
    "\n",
    "\n",
    "### 2. Incubation period\n",
    "We accounted for right truncation and modeled and used a lognormal distribution with parameters adopted from an earlier study (Linton et, al., 2020, JCM), and the estimated mean and SD were 5.6 days and 3.9 days, respectively.\n",
    "\n",
    "\n",
    "### 3. Right-truncated reporting delay\n",
    "We fitted the right-truncated time delay distribution from the illness onset to reporting to the Weibull distribution. We define the likelihood as follows: \n",
    "\n",
    "$$\n",
    "L(\\theta|S_k,O_k,T)=\\prod_{k=1}^{K}\\frac{h(S_k-O_k  |  \\theta)}{H(T-O_k  |  \\theta)}\n",
    "$$\n",
    "\n",
    "where $S_k$ and $O_k$ are the reporting date and the date of illness onset of case $k$, respectively and $T$ is the latest calendar day of observation. $h(∙)$ and $H(∙)$ are the probability density function (PDF) and cumulative density function (CDF) of Weibull distribution and $\\theta$ is the parameters of the distribution (i.e., shape and scale). The likelihood is maximized to determine the best-fit parameters used in the estimation of the reproduction number ($R_t$).\n"
   ]
  },
  {
   "cell_type": "code",
   "execution_count": 3,
   "metadata": {},
   "outputs": [],
   "source": [
    "## Serial interval (Nishiura, et al, 2020)\n",
    "gi_fit = list(shape=2.305, scale=5.452)\n",
    "generation <- function(t){pweibull(t, shape = gi_fit$shape, scale = gi_fit$scale) - \n",
    "                          pweibull(t-1, shape = gi_fit$shape, scale = gi_fit$scale)}\n",
    "\n",
    "\n",
    "## incubation period (Linton et al, 2020)\n",
    "inc_fit = list(meanlog=1.519, sdlog=0.615)\n",
    "incubation <- function(t){plnorm(t, inc_fit$meanlog, inc_fit$sdlog) - plnorm(t-1, inc_fit$meanlog, inc_fit$sdlog)}\n",
    "\n",
    "\n",
    "## right-truncated reporting delay from illness onset to laboratory confirmation (estimated values using the MHLW data)\n",
    "rep_fit = list(shape=1.741, scale=8.573)\n",
    "onsettolabconf <- function(t){pweibull(t,  shape=rep_fit$shape, scale=rep_fit$scale) - \n",
    "                              pweibull(t-1, shape=rep_fit$shape, scale=rep_fit$scale)}"
   ]
  },
  {
   "cell_type": "markdown",
   "metadata": {},
   "source": [
    "## Back-projection from the laboratory confirmation date to illness onset\n",
    "\n",
    "To estimate the effective reproduction number ($R_t$) by time of infection, we back-projected the cases by time of infection.\n",
    "\n",
    "First, since there are some reported cases with unknown illness onset date, we back-projected those cases from laboratory confirmation date to illness onset date, using the PDF of time delay from the illness onset to laboratory confirmation. $R$ package ‘$surveillance$’ was used for the back-projection and within the package, the non-parametric back-projection algorithm based on Expectation-Maximization-Smoothing (EMS) algorithm was conducted."
   ]
  },
  {
   "cell_type": "code",
   "execution_count": 4,
   "metadata": {
    "scrolled": true
   },
   "outputs": [],
   "source": [
    "## adding extra 10 days for the stability of back-projection procedure\n",
    "temp_lastdays <- matrix(NA, ncol=1, nrow=10)\n",
    "temp_lastdays %<>% as.data.frame() %>% mutate(labconf=as.Date((max(unknown_Japan$labconf)+1):(max(unknown_Japan$labconf)+10), origin=\"1970-01-01\"),\n",
    "                                              domestic=0, imported=0, total=0) %>% dplyr::select(-V1)\n",
    "rbind(unknown_Japan, temp_lastdays) -> unknown_Japan\n",
    "unknown_Japan %<>% mutate(time_onset = 1:nrow(unknown_Japan))\n",
    "\n",
    "\n",
    "## time delay from the illness onset to laboratory confirmation\n",
    "K = nrow(unknown_Japan)\n",
    "\n",
    "report_probability = pweibull(1:K, shape=rep_fit$shape, scale=rep_fit$scale) - pweibull(1:K-1, shape=rep_fit$shape, scale=rep_fit$scale)\n",
    "report_pmf = c(0,report_probability[1:21])\n",
    "\n",
    "\n",
    "## back-projecton of imported cases\n",
    "sts = new(\"sts\", epoch=unknown_Japan$time_onset, observed=unknown_Japan$imported)\n",
    "bpnp.control = list(k = 2, eps = rep(1e-4,2), iter.max=rep(1000,2), \n",
    "                    Tmark = nrow(sts), B = -1, alpha = 0.01, verbose = FALSE, lambda0 = NULL, eq3a.method = c(\"R\",\"C\"))\n",
    "sts_bp = backprojNP(sts, incu.pmf=report_pmf, control=modifyList(bpnp.control,list(eq3a.method=\"C\")))\n",
    "unknown_Japan$imported_backproj = upperbound(sts_bp)\n",
    "\n",
    "\n",
    "## back-projecton of domestic cases\n",
    "sts = new(\"sts\", epoch=unknown_Japan$time_onset, observed=unknown_Japan$domestic)\n",
    "bpnp.control = list(k = 2, eps = rep(1e-4,2), iter.max=rep(1000,2), \n",
    "                    Tmark = nrow(sts), B = -1, alpha = 0.01, verbose = FALSE, lambda0 = NULL, \n",
    "                    eq3a.method = c(\"R\",\"C\"))\n",
    "sts_bp = backprojNP(sts, incu.pmf=report_pmf, control=modifyList(bpnp.control,list(eq3a.method=\"C\")))\n",
    "unknown_Japan$domestic_backproj = upperbound(sts_bp)\n",
    "\n",
    "\n",
    "## normalizing the back-projected cases\n",
    "unknown_Japan$imported_backproj[unknown_Japan$imported_backproj<=0.01] <- 0\n",
    "unknown_Japan$domestic_backproj[unknown_Japan$domestic_backproj<=0.01] <- 0\n",
    "\n",
    "unknown_Japan %>% mutate(imported_normal = imported_backproj/sum(imported_backproj)*sum(imported),\n",
    "                         domestic_normal = domestic_backproj/sum(domestic_backproj)*sum(domestic),\n",
    "                         total = imported_normal+domestic_normal,\n",
    "                         time_onset=0:(nrow(unknown_Japan)-1)) %>%\n",
    "dplyr::select(time_onset, labconf, imported_normal, domestic_normal, total) %>% \n",
    "rename(t = time_onset, onset = labconf, imported_backproj=imported_normal, domestic_backproj = domestic_normal) -> dt.backproj_onset"
   ]
  },
  {
   "cell_type": "code",
   "execution_count": 5,
   "metadata": {},
   "outputs": [],
   "source": [
    "## merge the back-projected data with cases whose date of illness onset was available\n",
    "merge(entire_Japan, dt.backproj_onset, by=c('onset'), all.y=TRUE) %>% \n",
    "mutate(domestic = domestic_org+domestic_backproj, imported = imported_org + imported_backproj,\n",
    "       total = domestic + imported) %>% dplyr::select(onset, domestic, imported ,total) -> df_onset\n",
    "df_onset[is.na(df_onset)] <- 0"
   ]
  },
  {
   "cell_type": "markdown",
   "metadata": {},
   "source": [
    "## Back-projection from the illness onset to time of infection\n",
    "\n",
    "The epidemic curve by date of illness onset was back-projected once again to the epidemic curve by the time of infection, using the PDF of incubation and the same back-projection method was used."
   ]
  },
  {
   "cell_type": "code",
   "execution_count": 6,
   "metadata": {
    "scrolled": true
   },
   "outputs": [],
   "source": [
    "## adding extra 10 days for the stability of back-projection procedure\n",
    "temp_lastdays <- matrix(NA, ncol=1, nrow=10)\n",
    "temp_lastdays %<>% as.data.frame() %>% mutate(onset=as.Date((max(df_onset$onset)+1):(max(df_onset$onset)+10), origin=\"1970-01-01\"),\n",
    "                                              domestic=0, imported=0, total=0) %>% dplyr::select(-V1)\n",
    "rbind(df_onset, temp_lastdays) -> df_onset\n",
    "df_onset %<>% mutate(time_onset = 1:nrow(df_onset))\n",
    "\n",
    "\n",
    "## incubation period\n",
    "K = nrow(df_onset)\n",
    "incubation_probability = plnorm(1:K, inc_fit$meanlog, inc_fit$sdlog) - plnorm(1:K-1, inc_fit$meanlog, inc_fit$sdlog)\n",
    "inc_pmf = c(0,incubation_probability[1:21])\n",
    "\n",
    "\n",
    "## back-projecton of imported cases\n",
    "sts = new(\"sts\", epoch=df_onset$time_onset, observed=df_onset$imported)\n",
    "bpnp.control = list(k = 2, eps = rep(1e-4,2), iter.max=rep(1000,2), \n",
    "                    Tmark = nrow(sts), B = -1, alpha = 0.01, verbose = FALSE, lambda0 = NULL, eq3a.method = c(\"R\",\"C\"))\n",
    "sts_bp = backprojNP(sts, incu.pmf=inc_pmf, control=modifyList(bpnp.control,list(eq3a.method=\"C\")))\n",
    "df_onset$imported_backproj = upperbound(sts_bp)\n",
    "\n",
    "\n",
    "## back-projecton of domestic cases\n",
    "sts = new(\"sts\", epoch=df_onset$time_onset, observed=df_onset$domestic)\n",
    "bpnp.control = list(k = 2, eps = rep(1e-4,2), iter.max=rep(1000,2), \n",
    "                    Tmark = nrow(sts), B = -1, alpha = 0.01, verbose = FALSE, lambda0 = NULL, \n",
    "                    eq3a.method = c(\"R\",\"C\"))\n",
    "sts_bp = backprojNP(sts, incu.pmf=inc_pmf, control=modifyList(bpnp.control,list(eq3a.method=\"C\")))\n",
    "df_onset$domestic_backproj = upperbound(sts_bp)\n",
    "\n",
    "\n",
    "## normalizing the back-projected cases\n",
    "df_onset$imported_backproj[df_onset$imported_backproj<=0.01] <- 0\n",
    "df_onset$domestic_backproj[df_onset$domestic_backproj<=0.01] <- 0\n",
    "\n",
    "df_onset %>% mutate(imported_normal = imported_backproj/sum(imported_backproj)*sum(imported),\n",
    "                    domestic_normal = domestic_backproj/sum(domestic_backproj)*sum(domestic),\n",
    "                    total = imported_normal+domestic_normal,\n",
    "                    time_onset=0:(nrow(df_onset)-1)) %>%\n",
    "dplyr::select(time_onset, onset, imported_normal, domestic_normal, total) %>% \n",
    "rename(t = time_onset, imported=imported_normal, domestic = domestic_normal) %>% filter(onset <= (datestar-1))-> dt.backproj"
   ]
  },
  {
   "cell_type": "markdown",
   "metadata": {},
   "source": [
    "## Renewal equation\n",
    "\n",
    "Let $C_{domestic} (t)$ be the number of newly domestic infected cases (i.e., defined as confirmed COVID-19 cases who were infected within the Japan) on day $t$. Then, the expected number of domestic infected case is modelled as:\n",
    "$$\n",
    "E(C_{domestic} (t))=R_t \\sum_{\\tau=1}^{t-1}C_{total} (t-\\tau)g(\\tau)  \\frac{F(T-t)}{F(T-t+\\tau)},\n",
    "$$\n",
    "where $C_{total} (t)$ is the number of total infected COVID-19 cases (i.e., sum of domestic infections and imported infections) on day $t$, $R_t$ is the reproduction number on day $t$ and $g(∙)$ is the PDF of generation interval distribution. In addition, to account for right-censoring, i.e., cases that have not yet been reported but already infected, $F(∙)$, the CDF of time delay from infection to reporting (i.e., the convolution of PDF of incubation period and PDF of right-truncated reporting delay from the illness onset to reporting) was considered. \n",
    "\n",
    "To estimate parameters governing $C_{total} (t-\\tau)g(\\tau)\\frac{F(T-t)}{F(T-t+\\tau)}$, we assumed that $C_{domestic} (t)$ follows a Poisson distribution and we arrived at the likelihood function of the form:\n",
    "$$\n",
    "L(R_t;C_{domestic} (t))= \\prod_{t=1}^{T}\\frac{\\exp⁡(-E(C_{domestic} (t)) E(C_{domestic}  (t))^{C_{domestic}(t)}}{C_{domestic}  (t)!}.\n",
    "$$\n",
    "\n",
    "The 95% confidence intervals of each estimates were derived using the profile likelihood."
   ]
  },
  {
   "cell_type": "code",
   "execution_count": 7,
   "metadata": {},
   "outputs": [],
   "source": [
    "today = as.numeric(datestar-as.Date(min(dt.backproj$onset)))\n",
    "\n",
    "## start estimation from 1 Feb 2020, as there is a huge uncertainty in the early phage of epidemic\n",
    "Start.T = 29\n",
    "\n",
    "\n",
    "## reporting delay distribution from infection to lab confirmation\n",
    "infectiontoreport <- function(t, tau){sum(convolve(onsettolabconf(1:1000),rev(incubation(1:1000)),type = c(\"open\"))[1:(today-t+tau)])}\n",
    "\n",
    "\n",
    "## pre-calculation for reporting delay to reduce the calculation time\n",
    "precal <- matrix(0, nrow=(max(dt.backproj$t)-Start.T+2+1), ncol=(max(dt.backproj$t)-1))\n",
    "for (m in (Start.T-2):max(dt.backproj$t)){\n",
    "    for (n in 1:(m-1)){precal[m-Start.T+2+1,n] <- infectiontoreport(m,n)}}\n",
    "\n",
    "delay_precalculation <- function(t){sum(convolve(onsettolabconf(1:1000),rev(incubation(1:1000)),type = c(\"open\"))[1:(today-t)])}\n",
    "\n",
    "dt.backproj %<>% rowwise %>%\n",
    "mutate(imported_delay = imported/delay_precalculation(t),\n",
    "       domestic_delay = domestic/delay_precalculation(t)) %>% mutate(total=imported_delay+domestic_delay)"
   ]
  },
  {
   "cell_type": "code",
   "execution_count": 8,
   "metadata": {},
   "outputs": [],
   "source": [
    "## estimating Rt\n",
    "est.t <- list()\n",
    "est.CI <- list()\n",
    "\n",
    "for (TT in Start.T:max(dt.backproj$t)){  \n",
    "    \n",
    "    dt.backproj %>% filter(t <= TT) -> dt.backproj.T\n",
    "    \n",
    "    llk <- function(param){\n",
    " \n",
    "        llk <- 0; Cs <- 0  \n",
    "        t=TT; R = param\n",
    "\n",
    "        Css <- rep(0, t)    \n",
    "\n",
    "        for (tau in 1:t-1){Css[tau] = (dt.backproj.T$total[t-tau+1])*generation(tau)/precal[t-Start.T+3,tau]}\n",
    "\n",
    "        Cs = sum(Css)*R \n",
    "        Cs[Cs<=0] <- 1e-5\n",
    "\n",
    "        return(-(-Cs+dt.backproj.T$domestic_delay[t+1]*log(Cs)-lgamma(dt.backproj.T$domestic_delay[t+1]+1))) \n",
    "    }  \n",
    "\n",
    "    param0 = c(0.7)\n",
    "    opt_est <- optim(param0, fn=llk, method=c(\"L-BFGS-B\"), lower=c(0), control=list(maxit=10000))\n",
    "    opt_est$par -> est.t[[TT]]\n",
    "\n",
    "    ## 95% confidence intervals using the profile likelihood\n",
    "    ci_pro <- matrix(NA, ncol=2, nrow=1)\n",
    "\n",
    "    CI <- function(par_CI){return(2*(-llk(par_CI)+opt_est$value))} #llk\n",
    "\n",
    "    par_CI <- seq(0, 10, by = 0.01)\n",
    "    \n",
    "    logLik <- sapply(par_CI, FUN = CI)\n",
    "    as.data.frame(par_CI) -> par_CI; as.data.frame(logLik) -> logLik\n",
    "\n",
    "\n",
    "    cbind(par_CI, logLik) -> data_CI\n",
    "\n",
    "    data_CI$logLik[data_CI$logLik<(max(data_CI$logLik)-3.84)] <- NA\n",
    "    data_CI %<>% na.omit()\n",
    "\n",
    "    min(data_CI$par_CI) -> ci_pro[1,1]\n",
    "    max(data_CI$par_CI) -> ci_pro[1,2]\n",
    "    \n",
    "    as.data.frame(ci_pro) -> ci_pro\n",
    "    colnames(ci_pro) <- c(\"lower\",\"upper\")    \n",
    "    ci_pro -> est.CI[[TT]]\n",
    "}\n",
    "\n",
    "matrix(unlist(est.t),ncol=1,byrow=T) -> est.t\n",
    "matrix(unlist(est.CI),ncol=2,byrow=T) -> est.CI\n",
    "\n",
    "cbind(est.t, est.CI) -> est"
   ]
  },
  {
   "cell_type": "markdown",
   "metadata": {},
   "source": [
    "## Figures for the estimated Rt"
   ]
  },
  {
   "cell_type": "code",
   "execution_count": 9,
   "metadata": {},
   "outputs": [],
   "source": [
    "est %>% as.data.frame() %>% mutate(t = Start.T:max(dt.backproj$t)) -> result\n",
    "merge(dt.backproj, result, by='t', all.x=TRUE) -> result\n",
    "colnames(result) <- c(\"t\",\"onset\",\"imported\",\"domestic\",\"total\",\"imported_delay\",\"domestic_delay\",\"Rt\",\"lower\",\"upper\")\n",
    "\n",
    "result %>% filter(onset<=as.Date(datestar-(17))) -> result_withcut\n",
    "\n",
    "result_withcut %>% dplyr::select(onset, domestic, imported) %>% gather(onset) -> figure_data\n",
    "result_withcut %>% dplyr::select(onset) -> TIME\n",
    "rbind(TIME, TIME) -> TIME\n",
    "cbind(figure_data, TIME) -> figure_data\n",
    "colnames(figure_data) <- c(\"subject\",\"value\",\"onset\")"
   ]
  },
  {
   "cell_type": "code",
   "execution_count": 10,
   "metadata": {},
   "outputs": [
    {
     "data": {
      "image/png": "iVBORw0KGgoAAAANSUhEUgAAA0gAAAJYCAMAAABvmDbGAAAAQlBMVEUAAAATgKEzMzNNTU1Z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\niAQAAxAJAAYgEgAMQCQAGPg/L3AM0bvfamMAAAAASUVORK5CYII=",
      "text/plain": [
       "plot without title"
      ]
     },
     "metadata": {
      "image/png": {
       "height": 300,
       "width": 420
      },
      "text/plain": {
       "height": 300,
       "width": 420
      }
     },
     "output_type": "display_data"
    }
   ],
   "source": [
    "options(repr.plot.width=7,repr.plot.height=5)\n",
    "\n",
    "scaling_parameter=max(result_withcut$total)/max(result_withcut$upper[!is.na(result_withcut$upper)])\n",
    "range = c(as.Date(\"2020-02-01\"), (datestar-17))\n",
    "adj = 0.8\n",
    "options(warn=-1)\n",
    "\n",
    "figure_data %>% \n",
    "    ggplot() + \n",
    "    geom_bar(aes(x=onset, y=value, fill=subject, group=subject),stat='identity', width=0.7) +\n",
    "    scale_fill_manual(values=c(\"#FAAB18\",\"gray35\")) +\n",
    "    geom_line(data=result[!is.na(result$Rt),],aes(x=onset,y=Rt*scaling_parameter*adj),color=\"#1380A1\",size=1) +\n",
    "    geom_ribbon(data=result,aes(ymax=result$upper*scaling_parameter*adj, ymin=result$lower*scaling_parameter*adj, x=onset), \n",
    "                fill=\"#1380A1\", alpha = 0.4) +\n",
    "    ggtitle(\"Entire Japan\") +\n",
    "    labs(x=\"\\nDate of infection\", y=\"Incidence\\n\") +\n",
    "    theme(text=element_text(size=12, family=\"sans\",color=\"black\"),\n",
    "          axis.text=element_text(size=10, family=\"sans\",color=\"black\"),\n",
    "          panel.grid.major=element_blank(), panel.grid.minor = element_blank(),\n",
    "         legend.position=\"none\") +\n",
    "    scale_x_date(date_labels=\"%m/%d\",date_breaks=\"10 day\", limits=range, expand=c(0, 0)) +\n",
    "    scale_y_continuous(limit=c(0,640), expand = c(0, 0),\n",
    "                       sec.axis = sec_axis(~./(scaling_parameter*adj), breaks=c(0,2,4,6,8,10), name=\"Effective reproduction number\\n\")) +\n",
    "    geom_hline(yintercept=1*scaling_parameter*adj, linetype=\"dashed\", color = \"#1380A1\", size =0.7)"
   ]
  },
  {
   "cell_type": "markdown",
   "metadata": {},
   "source": [
    "## Estimating Rt excluding the cases with unknown illness onset date"
   ]
  },
  {
   "cell_type": "code",
   "execution_count": 11,
   "metadata": {},
   "outputs": [],
   "source": [
    "entire_Japan %>% rename(domestic = domestic_org, imported = imported_org) -> df_onset_wo\n",
    "\n",
    "## adding extra 10 days for the stability of back-projection procedure\n",
    "temp_lastdays <- matrix(NA, ncol=1, nrow=10)\n",
    "temp_lastdays %<>% as.data.frame() %>% mutate(onset=as.Date((max(df_onset_wo$onset)+1):(max(df_onset_wo$onset)+10), origin=\"1970-01-01\"),\n",
    "                                              domestic=0, imported=0, total=0) %>% dplyr::select(-V1)\n",
    "rbind(df_onset_wo, temp_lastdays) -> df_onset_wo\n",
    "df_onset_wo %<>% mutate(time_onset = 1:nrow(df_onset_wo))\n",
    "\n",
    "\n",
    "## incubation period\n",
    "K = nrow(df_onset_wo)\n",
    "incubation_probability = plnorm(1:K, inc_fit$meanlog, inc_fit$sdlog) - plnorm(1:K-1, inc_fit$meanlog, inc_fit$sdlog)\n",
    "inc_pmf = c(0,incubation_probability[1:21])\n",
    "\n",
    "\n",
    "## back-projecton of imported cases\n",
    "sts = new(\"sts\", epoch=df_onset_wo$time_onset, observed=df_onset_wo$imported)\n",
    "bpnp.control = list(k = 2, eps = rep(1e-4,2), iter.max=rep(1000,2), \n",
    "                    Tmark = nrow(sts), B = -1, alpha = 0.01, verbose = FALSE, lambda0 = NULL, eq3a.method = c(\"R\",\"C\"))\n",
    "sts_bp = backprojNP(sts, incu.pmf=inc_pmf, control=modifyList(bpnp.control,list(eq3a.method=\"C\")))\n",
    "df_onset_wo$imported_backproj = upperbound(sts_bp)\n",
    "\n",
    "\n",
    "## back-projecton of domestic cases\n",
    "sts = new(\"sts\", epoch=df_onset_wo$time_onset, observed=df_onset_wo$domestic)\n",
    "bpnp.control = list(k = 2, eps = rep(1e-4,2), iter.max=rep(1000,2), \n",
    "                    Tmark = nrow(sts), B = -1, alpha = 0.01, verbose = FALSE, lambda0 = NULL, \n",
    "                    eq3a.method = c(\"R\",\"C\"))\n",
    "sts_bp = backprojNP(sts, incu.pmf=inc_pmf, control=modifyList(bpnp.control,list(eq3a.method=\"C\")))\n",
    "df_onset_wo$domestic_backproj = upperbound(sts_bp)\n",
    "\n",
    "\n",
    "## normalizing the back-projected cases\n",
    "df_onset_wo$imported_backproj[df_onset_wo$imported_backproj<=0.01] <- 0\n",
    "df_onset_wo$domestic_backproj[df_onset_wo$domestic_backproj<=0.01] <- 0\n",
    "\n",
    "df_onset_wo %>% mutate(imported_normal = imported_backproj/sum(imported_backproj)*sum(imported),\n",
    "                       domestic_normal = domestic_backproj/sum(domestic_backproj)*sum(domestic),\n",
    "                       total = imported_normal+domestic_normal,\n",
    "                       time_onset=0:(nrow(df_onset_wo)-1)) %>%\n",
    "dplyr::select(time_onset, onset, imported_normal, domestic_normal, total) %>% \n",
    "rename(t = time_onset, imported=imported_normal, domestic = domestic_normal) %>% filter(onset <= (datestar-1))-> dt.backproj"
   ]
  },
  {
   "cell_type": "code",
   "execution_count": 12,
   "metadata": {},
   "outputs": [],
   "source": [
    "today = as.numeric(datestar-as.Date(min(dt.backproj$onset)))\n",
    "\n",
    "## start estimation from 1 Feb 2020, as there is a huge uncertainty in the early phage of epidemic\n",
    "Start.T = 29\n",
    "\n",
    "\n",
    "## reporting delay distribution from infection to lab confirmation\n",
    "infectiontoreport <- function(t, tau){sum(convolve(onsettolabconf(1:today-t+tau),rev(incubation(1:today-t+tau)),type = c(\"open\")))}\n",
    "\n",
    "\n",
    "## pre-calculation for reporting delay to reduce the calculation time\n",
    "precal <- matrix(0, nrow=(max(dt.backproj$t)-Start.T+2+1), ncol=(max(dt.backproj$t)-1))\n",
    "for (m in (Start.T-2):max(dt.backproj$t)){\n",
    "    for (n in 1:m-1){precal[m-Start.T+2+1,n] <- infectiontoreport(m,n)}}\n",
    "\n",
    "delay_precalculation <- function(t){sum(convolve(onsettolabconf(1:(today-t)),rev(incubation(1:(today-t))),type = c(\"open\")))}\n",
    "\n",
    "dt.backproj %<>% rowwise %>%\n",
    "mutate(imported_delay = imported/delay_precalculation(t),\n",
    "       domestic_delay = domestic/delay_precalculation(t)) %>% mutate(total=imported_delay+domestic_delay)"
   ]
  },
  {
   "cell_type": "code",
   "execution_count": 13,
   "metadata": {},
   "outputs": [],
   "source": [
    "## estimating Rt\n",
    "est.t <- list()\n",
    "est.CI <- list()\n",
    "\n",
    "for (TT in Start.T:max(dt.backproj$t)){  \n",
    "    \n",
    "    dt.backproj %>% filter(t <= TT) -> dt.backproj.T\n",
    "    \n",
    "    llk <- function(param){\n",
    "\n",
    "        llk <- 0; Cs <- 0  \n",
    "        t=TT; R = param\n",
    "\n",
    "        Css <- rep(0, t)    \n",
    "\n",
    "        for (tau in 1:t-1){Css[tau] = (dt.backproj.T$total[t-tau+1])*generation(tau)/precal[t-Start.T+3,tau]}\n",
    "\n",
    "        Cs = sum(Css)*R \n",
    "        Cs[Cs<=0] <- 1e-5\n",
    "\n",
    "        return(-(-Cs+dt.backproj.T$domestic_delay[t+1]*log(Cs)-lgamma(dt.backproj.T$domestic_delay[t+1]+1)))\n",
    "    }  \n",
    "\n",
    "    param0 = c(0.7)\n",
    "    opt_est <- optim(param0, fn=llk, method=c(\"L-BFGS-B\"), lower=c(0), control=list(maxit=10000))\n",
    "    opt_est$par -> est.t[[TT]]\n",
    "\n",
    "\n",
    "    ## 95% confidence intervals using the profile likelihood\n",
    "    ci_pro <- matrix(NA, ncol=2, nrow=1)\n",
    "\n",
    "    CI <- function(par_CI){return(2*(-llk(par_CI)+opt_est$value))} #llk()\n",
    "\n",
    "    par_CI <- seq(0, 10, by = 0.01)\n",
    "    \n",
    "    logLik <- sapply(par_CI, FUN = CI)\n",
    "    as.data.frame(par_CI) -> par_CI; as.data.frame(logLik) -> logLik\n",
    "\n",
    "\n",
    "    cbind(par_CI, logLik) -> data_CI\n",
    "\n",
    "    data_CI$logLik[data_CI$logLik<(max(data_CI$logLik)-3.84)] <- NA\n",
    "    data_CI %<>% na.omit()\n",
    "\n",
    "    min(data_CI$par_CI) -> ci_pro[1,1]\n",
    "    max(data_CI$par_CI) -> ci_pro[1,2]\n",
    "    \n",
    "    as.data.frame(ci_pro) -> ci_pro\n",
    "    colnames(ci_pro) <- c(\"lower\",\"upper\")    \n",
    "    ci_pro -> est.CI[[TT]]\n",
    "}\n",
    "\n",
    "matrix(unlist(est.t),ncol=1,byrow=T) -> est.t\n",
    "matrix(unlist(est.CI),ncol=2,byrow=T) -> est.CI\n",
    "\n",
    "cbind(est.t, est.CI) -> est"
   ]
  },
  {
   "cell_type": "code",
   "execution_count": 14,
   "metadata": {},
   "outputs": [],
   "source": [
    "est %>% as.data.frame() %>% mutate(t = Start.T:max(dt.backproj$t)) -> result\n",
    "merge(dt.backproj, result, by='t', all.x=TRUE) -> result\n",
    "colnames(result) <- c(\"t\",\"onset\",\"imported\",\"domestic\",\"total\",\"imported_delay\",\"domestic_delay\",\"Rt\",\"lower\",\"upper\")\n",
    "\n",
    "result %>% filter(onset<=as.Date(datestar-(17))) -> result_withcut\n",
    "\n",
    "result_withcut %>% dplyr::select(onset, domestic, imported) %>% gather(onset) -> figure_data\n",
    "result_withcut %>% dplyr::select(onset) -> TIME\n",
    "rbind(TIME, TIME) -> TIME\n",
    "cbind(figure_data, TIME) -> figure_data\n",
    "colnames(figure_data) <- c(\"subject\",\"value\",\"onset\")"
   ]
  },
  {
   "cell_type": "code",
   "execution_count": 15,
   "metadata": {},
   "outputs": [
    {
     "data": {
      "image/png": "iVBORw0KGgoAAAANSUhEUgAAA0gAAAJYCAMAAABvmDbGAAAAQlBMVEUAAAATgKEzMzNNTU1Z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\nSUVORK5CYII=",
      "text/plain": [
       "plot without title"
      ]
     },
     "metadata": {
      "image/png": {
       "height": 300,
       "width": 420
      },
      "text/plain": {
       "height": 300,
       "width": 420
      }
     },
     "output_type": "display_data"
    }
   ],
   "source": [
    "scaling_parameter=max(result_withcut$total)/max(result_withcut$upper[!is.na(result_withcut$upper)])\n",
    "range = c(as.Date(\"2020-02-01\"), (datestar-17))\n",
    "options(warn=-1)\n",
    "\n",
    "figure_data %>% \n",
    "    ggplot() + \n",
    "    geom_bar(aes(x=onset, y=value, fill=subject, group=subject),stat='identity', width=0.7) +\n",
    "    scale_fill_manual(values=c(\"#FAAB18\",\"gray35\")) +\n",
    "    geom_line(data=result[!is.na(result$Rt),],aes(x=onset,y=Rt*scaling_parameter),color=\"#1380A1\",size=1) +\n",
    "    geom_ribbon(data=result,aes(ymax=result$upper*scaling_parameter, ymin=result$lower*scaling_parameter, x=onset), \n",
    "                fill=\"#1380A1\", alpha = 0.4) +\n",
    "    ggtitle(\"Entire Japan excluding unknown cases\") +\n",
    "    labs(x=\"\\nDate of infection\", y=\"Incidence\\n\") +\n",
    "    theme(text=element_text(size=12, family=\"sans\",color=\"black\"),\n",
    "          axis.text=element_text(size=10, family=\"sans\",color=\"black\"),\n",
    "          panel.grid.major=element_blank(), panel.grid.minor=element_blank(),\n",
    "         legend.position=\"none\") +\n",
    "    scale_x_date(date_labels=\"%m/%d\",date_breaks=\"10 day\", limits=range, expand=c(0, 0)) +\n",
    "    scale_y_continuous(limit=c(0,620), expand = c(0, 0),\n",
    "                       sec.axis=sec_axis(~./(scaling_parameter), breaks=c(0,2,4,6,8,10), name=\"Effective reproduction number\\n\")) +\n",
    "    geom_hline(yintercept=1*scaling_parameter, linetype=\"dashed\", color = \"#1380A1\", size =0.7)"
   ]
  },
  {
   "cell_type": "code",
   "execution_count": 16,
   "metadata": {},
   "outputs": [],
   "source": [
    "write.csv(result, '../results/rtmle.csv')\n",
    "write.csv(result_withcut, '../results/rtwcmle.csv')"
   ]
  },
  {
   "cell_type": "code",
   "execution_count": null,
   "metadata": {},
   "outputs": [],
   "source": []
  }
 ],
 "metadata": {
  "kernelspec": {
   "display_name": "R",
   "language": "R",
   "name": "ir"
  },
  "language_info": {
   "codemirror_mode": "r",
   "file_extension": ".r",
   "mimetype": "text/x-r-source",
   "name": "R",
   "pygments_lexer": "r",
   "version": "4.0.0"
  }
 },
 "nbformat": 4,
 "nbformat_minor": 4
}
